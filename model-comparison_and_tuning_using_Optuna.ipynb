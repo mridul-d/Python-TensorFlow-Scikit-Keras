{
 "cells": [
  {
   "cell_type": "markdown",
   "source": [
    "# Model Comparison\n",
    "\n",
    "## Data\n",
    "Heart Failure Prediction Dataset\n",
    "\n",
    "1. Age: Age of the patient [years]\n",
    "2. Sex: Sex of the patient [M: Male, F: Female]\n",
    "3. ChestPainType: [TA: Typical Angina, ATA: Atypical Angina, NAP: Non-Anginal Pain, ASY: Asymptomatic]\n",
    "4. RestingBP: Resting blood pressure [mm Hg]\n",
    "5. Cholesterol: Serum cholesterol [mm/dl]\n",
    "6. FastingBS: Fasting blood sugar [1: if FastingBS > 120 mg/dl, 0: otherwise]\n",
    "7. RestingECG: Resting electrocardiogram results [Normal: Normal, ST: having ST-T wave abnormality (T wave inversions and/or ST elevation or depression of > 0.05 mV), LVH: showing probable or definite left ventricular hypertrophy by Estes' criteria]\n",
    "8. MaxHR: Maximum heart rate achieved [Numeric value between 60 and 202]\n",
    "9. ExerciseAngina: Exercise-induced angina [Y: Yes, N: No]\n",
    "10. Oldpeak: ST [Numeric value measured in depression] (\n",
    "11. ST_Slope: The slope of the peak exercise ST segment [Up: upsloping, Flat: flat, Down: downsloping]\n",
    "12. HeartDisease: Output class [1: heart disease, 0: Normal]\n",
    "\n",
    "**Source** : https://www.kaggle.com/fedesoriano/heart-failure-prediction.\n",
    "\n",
    "\n",
    "\n",
    "## Problem\n",
    "- Type of problem - **Classification**\n",
    "- Given the input data, classify the individual as with heart disease (category 1) or normal (category 0)\n",
    "\n",
    "\n",
    "## Objective\n",
    "- Perform the exploratory data analysis to make the data fit for purpose\n",
    "- Test multiple models to establish the best performing model (linear and non linear models) under default conditions\n",
    "- Pick the best performing model and tune the parameters to increase the model accuracy\n"
   ],
   "metadata": {
    "collapsed": false
   }
  },
  {
   "cell_type": "markdown",
   "source": [
    "## Exploratory Data Analysis"
   ],
   "metadata": {
    "collapsed": false
   }
  },
  {
   "cell_type": "code",
   "execution_count": 438,
   "metadata": {
    "collapsed": true
   },
   "outputs": [],
   "source": [
    "import pandas as pd\n",
    "import numpy as np\n",
    "import matplotlib.pyplot as plt\n",
    "import seaborn as sns\n",
    "\n",
    "# Import all common libraries for models\n",
    "from sklearn.model_selection import train_test_split\n",
    "from sklearn.metrics import accuracy_score, classification_report\n",
    "from sklearn.preprocessing import OneHotEncoder, StandardScaler\n",
    "from sklearn.compose import make_column_transformer\n",
    "from sklearn.pipeline import make_pipeline\n",
    "\n",
    "# Import libraries related to the models\n",
    "from sklearn.dummy import DummyClassifier\n",
    "\n",
    "from sklearn.linear_model import LogisticRegression\n",
    "from sklearn.discriminant_analysis import LinearDiscriminantAnalysis\n",
    "from sklearn.svm import SVC\n",
    "from sklearn.neighbors import KNeighborsClassifier\n",
    "\n",
    "from sklearn.ensemble import AdaBoostClassifier\n",
    "from sklearn.ensemble import GradientBoostingClassifier\n",
    "from sklearn.ensemble import RandomForestClassifier\n",
    "from sklearn.ensemble import ExtraTreesClassifier\n",
    "\n",
    "from xgboost import XGBClassifier\n",
    "from lightgbm import LGBMClassifier\n",
    "from catboost import CatBoostClassifier\n",
    "\n",
    "# Import libraries for optimizing the parameters\n",
    "import optuna"
   ]
  },
  {
   "cell_type": "code",
   "execution_count": 442,
   "outputs": [
    {
     "data": {
      "text/plain": "   Age Sex ChestPainType  RestingBP  Cholesterol  FastingBS RestingECG  MaxHR  \\\n0   40   M           ATA        140          289          0     Normal    172   \n1   49   F           NAP        160          180          0     Normal    156   \n2   37   M           ATA        130          283          0         ST     98   \n3   48   F           ASY        138          214          0     Normal    108   \n4   54   M           NAP        150          195          0     Normal    122   \n\n  ExerciseAngina  Oldpeak ST_Slope  HeartDisease  \n0              N      0.0       Up             0  \n1              N      1.0     Flat             1  \n2              N      0.0       Up             0  \n3              Y      1.5     Flat             1  \n4              N      0.0       Up             0  ",
      "text/html": "<div>\n<style scoped>\n    .dataframe tbody tr th:only-of-type {\n        vertical-align: middle;\n    }\n\n    .dataframe tbody tr th {\n        vertical-align: top;\n    }\n\n    .dataframe thead th {\n        text-align: right;\n    }\n</style>\n<table border=\"1\" class=\"dataframe\">\n  <thead>\n    <tr style=\"text-align: right;\">\n      <th></th>\n      <th>Age</th>\n      <th>Sex</th>\n      <th>ChestPainType</th>\n      <th>RestingBP</th>\n      <th>Cholesterol</th>\n      <th>FastingBS</th>\n      <th>RestingECG</th>\n      <th>MaxHR</th>\n      <th>ExerciseAngina</th>\n      <th>Oldpeak</th>\n      <th>ST_Slope</th>\n      <th>HeartDisease</th>\n    </tr>\n  </thead>\n  <tbody>\n    <tr>\n      <th>0</th>\n      <td>40</td>\n      <td>M</td>\n      <td>ATA</td>\n      <td>140</td>\n      <td>289</td>\n      <td>0</td>\n      <td>Normal</td>\n      <td>172</td>\n      <td>N</td>\n      <td>0.0</td>\n      <td>Up</td>\n      <td>0</td>\n    </tr>\n    <tr>\n      <th>1</th>\n      <td>49</td>\n      <td>F</td>\n      <td>NAP</td>\n      <td>160</td>\n      <td>180</td>\n      <td>0</td>\n      <td>Normal</td>\n      <td>156</td>\n      <td>N</td>\n      <td>1.0</td>\n      <td>Flat</td>\n      <td>1</td>\n    </tr>\n    <tr>\n      <th>2</th>\n      <td>37</td>\n      <td>M</td>\n      <td>ATA</td>\n      <td>130</td>\n      <td>283</td>\n      <td>0</td>\n      <td>ST</td>\n      <td>98</td>\n      <td>N</td>\n      <td>0.0</td>\n      <td>Up</td>\n      <td>0</td>\n    </tr>\n    <tr>\n      <th>3</th>\n      <td>48</td>\n      <td>F</td>\n      <td>ASY</td>\n      <td>138</td>\n      <td>214</td>\n      <td>0</td>\n      <td>Normal</td>\n      <td>108</td>\n      <td>Y</td>\n      <td>1.5</td>\n      <td>Flat</td>\n      <td>1</td>\n    </tr>\n    <tr>\n      <th>4</th>\n      <td>54</td>\n      <td>M</td>\n      <td>NAP</td>\n      <td>150</td>\n      <td>195</td>\n      <td>0</td>\n      <td>Normal</td>\n      <td>122</td>\n      <td>N</td>\n      <td>0.0</td>\n      <td>Up</td>\n      <td>0</td>\n    </tr>\n  </tbody>\n</table>\n</div>"
     },
     "execution_count": 442,
     "metadata": {},
     "output_type": "execute_result"
    }
   ],
   "source": [
    "# Load the input csv file\n",
    "df = pd.read_csv(\"data/heart-failure-prediction.csv\")\n",
    "df.reset_index(drop=True) # This statement resets the index and removes the rows with NaN values. This can be handled in several other ways, which are no included in scope for this notebook\n",
    "df.head()"
   ],
   "metadata": {
    "collapsed": false,
    "pycharm": {
     "name": "#%%\n"
    }
   }
  },
  {
   "cell_type": "code",
   "execution_count": 331,
   "outputs": [
    {
     "data": {
      "text/plain": "Age               0\nSex               0\nChestPainType     0\nRestingBP         0\nCholesterol       0\nFastingBS         0\nRestingECG        0\nMaxHR             0\nExerciseAngina    0\nOldpeak           0\nST_Slope          0\nHeartDisease      0\ndtype: int64"
     },
     "execution_count": 331,
     "metadata": {},
     "output_type": "execute_result"
    }
   ],
   "source": [
    "# Check for null values\n",
    "df.isnull().sum()"
   ],
   "metadata": {
    "collapsed": false,
    "pycharm": {
     "name": "#%%\n"
    }
   }
  },
  {
   "cell_type": "markdown",
   "source": [
    "There are no null values in the dataset for any of the columns."
   ],
   "metadata": {
    "collapsed": false
   }
  },
  {
   "cell_type": "code",
   "execution_count": 441,
   "outputs": [
    {
     "data": {
      "text/plain": "              Age   RestingBP  Cholesterol   FastingBS       MaxHR  \\\ncount  918.000000  918.000000   918.000000  918.000000  918.000000   \nmean    53.510893  132.396514   198.799564    0.233115  136.809368   \nstd      9.432617   18.514154   109.384145    0.423046   25.460334   \nmin     28.000000    0.000000     0.000000    0.000000   60.000000   \n25%     47.000000  120.000000   173.250000    0.000000  120.000000   \n50%     54.000000  130.000000   223.000000    0.000000  138.000000   \n75%     60.000000  140.000000   267.000000    0.000000  156.000000   \nmax     77.000000  200.000000   603.000000    1.000000  202.000000   \n\n          Oldpeak  HeartDisease  \ncount  918.000000    918.000000  \nmean     0.887364      0.553377  \nstd      1.066570      0.497414  \nmin     -2.600000      0.000000  \n25%      0.000000      0.000000  \n50%      0.600000      1.000000  \n75%      1.500000      1.000000  \nmax      6.200000      1.000000  ",
      "text/html": "<div>\n<style scoped>\n    .dataframe tbody tr th:only-of-type {\n        vertical-align: middle;\n    }\n\n    .dataframe tbody tr th {\n        vertical-align: top;\n    }\n\n    .dataframe thead th {\n        text-align: right;\n    }\n</style>\n<table border=\"1\" class=\"dataframe\">\n  <thead>\n    <tr style=\"text-align: right;\">\n      <th></th>\n      <th>Age</th>\n      <th>RestingBP</th>\n      <th>Cholesterol</th>\n      <th>FastingBS</th>\n      <th>MaxHR</th>\n      <th>Oldpeak</th>\n      <th>HeartDisease</th>\n    </tr>\n  </thead>\n  <tbody>\n    <tr>\n      <th>count</th>\n      <td>918.000000</td>\n      <td>918.000000</td>\n      <td>918.000000</td>\n      <td>918.000000</td>\n      <td>918.000000</td>\n      <td>918.000000</td>\n      <td>918.000000</td>\n    </tr>\n    <tr>\n      <th>mean</th>\n      <td>53.510893</td>\n      <td>132.396514</td>\n      <td>198.799564</td>\n      <td>0.233115</td>\n      <td>136.809368</td>\n      <td>0.887364</td>\n      <td>0.553377</td>\n    </tr>\n    <tr>\n      <th>std</th>\n      <td>9.432617</td>\n      <td>18.514154</td>\n      <td>109.384145</td>\n      <td>0.423046</td>\n      <td>25.460334</td>\n      <td>1.066570</td>\n      <td>0.497414</td>\n    </tr>\n    <tr>\n      <th>min</th>\n      <td>28.000000</td>\n      <td>0.000000</td>\n      <td>0.000000</td>\n      <td>0.000000</td>\n      <td>60.000000</td>\n      <td>-2.600000</td>\n      <td>0.000000</td>\n    </tr>\n    <tr>\n      <th>25%</th>\n      <td>47.000000</td>\n      <td>120.000000</td>\n      <td>173.250000</td>\n      <td>0.000000</td>\n      <td>120.000000</td>\n      <td>0.000000</td>\n      <td>0.000000</td>\n    </tr>\n    <tr>\n      <th>50%</th>\n      <td>54.000000</td>\n      <td>130.000000</td>\n      <td>223.000000</td>\n      <td>0.000000</td>\n      <td>138.000000</td>\n      <td>0.600000</td>\n      <td>1.000000</td>\n    </tr>\n    <tr>\n      <th>75%</th>\n      <td>60.000000</td>\n      <td>140.000000</td>\n      <td>267.000000</td>\n      <td>0.000000</td>\n      <td>156.000000</td>\n      <td>1.500000</td>\n      <td>1.000000</td>\n    </tr>\n    <tr>\n      <th>max</th>\n      <td>77.000000</td>\n      <td>200.000000</td>\n      <td>603.000000</td>\n      <td>1.000000</td>\n      <td>202.000000</td>\n      <td>6.200000</td>\n      <td>1.000000</td>\n    </tr>\n  </tbody>\n</table>\n</div>"
     },
     "execution_count": 441,
     "metadata": {},
     "output_type": "execute_result"
    }
   ],
   "source": [
    "df.describe()"
   ],
   "metadata": {
    "collapsed": false,
    "pycharm": {
     "name": "#%%\n"
    }
   }
  },
  {
   "cell_type": "markdown",
   "source": [
    "The numerical columns do not seem to have extreme values (min and max rows) that could be immediately identied as outliers. Further analysis will be done on outliers later"
   ],
   "metadata": {
    "collapsed": false
   }
  },
  {
   "cell_type": "markdown",
   "source": [
    "### Analyse the numerical features\n",
    "\n",
    "Create a histogram for the numerical values"
   ],
   "metadata": {
    "collapsed": false
   }
  },
  {
   "cell_type": "code",
   "execution_count": 333,
   "outputs": [
    {
     "name": "stdout",
     "output_type": "stream",
     "text": [
      "Numerical Columns:  Index(['Age', 'RestingBP', 'Cholesterol', 'FastingBS', 'MaxHR', 'Oldpeak'], dtype='object')\n"
     ]
    }
   ],
   "source": [
    "# get the numerical features from the dataset\n",
    "numerical= df.drop(['HeartDisease'], axis=1).select_dtypes('number').columns\n",
    "\n",
    "print(f'Numerical Columns:  {df[numerical].columns}')"
   ],
   "metadata": {
    "collapsed": false,
    "pycharm": {
     "name": "#%%\n"
    }
   }
  },
  {
   "cell_type": "code",
   "execution_count": 443,
   "outputs": [
    {
     "data": {
      "text/plain": "array([[<AxesSubplot:ylabel='Frequency'>,\n        <AxesSubplot:ylabel='Frequency'>,\n        <AxesSubplot:ylabel='Frequency'>],\n       [<AxesSubplot:ylabel='Frequency'>,\n        <AxesSubplot:ylabel='Frequency'>,\n        <AxesSubplot:ylabel='Frequency'>]], dtype=object)"
     },
     "execution_count": 443,
     "metadata": {},
     "output_type": "execute_result"
    },
    {
     "data": {
      "text/plain": "<Figure size 1152x720 with 0 Axes>"
     },
     "metadata": {},
     "output_type": "display_data"
    },
    {
     "data": {
      "text/plain": "<Figure size 576x396 with 6 Axes>",
      "image/png": "[encoded data removed]"
     },
     "metadata": {},
     "output_type": "display_data"
    }
   ],
   "source": [
    "# Plot all the numerical columns as histograms\n",
    "plt.style.use('seaborn')\n",
    "plt.figure(figsize=(16,10))\n",
    "df[numerical].plot.hist(subplots=True, legend=True, layout=(2, 3))"
   ],
   "metadata": {
    "collapsed": false,
    "pycharm": {
     "name": "#%%\n"
    }
   }
  },
  {
   "cell_type": "code",
   "execution_count": 335,
   "outputs": [
    {
     "data": {
      "text/plain": "<Figure size 1008x720 with 2 Axes>",
      "image/png": "[encoded data removed]"
     },
     "metadata": {},
     "output_type": "display_data"
    }
   ],
   "source": [
    "numerical_with_output = df.select_dtypes('number').columns\n",
    "\n",
    "matrix = np.triu(df[numerical_with_output].corr())\n",
    "fig, ax = plt.subplots(figsize=(14,10))\n",
    "sns.heatmap(df[numerical_with_output].corr(), annot=True, fmt= '.2f', vmin=-1, vmax=1, center=0, cmap='coolwarm',mask=matrix, ax=ax);\n"
   ],
   "metadata": {
    "collapsed": false,
    "pycharm": {
     "name": "#%%\n"
    }
   }
  },
  {
   "cell_type": "markdown",
   "source": [
    "Based on the heatmap, we can observe the following\n",
    "1. There is no strong correlation between numerical features and the output\n",
    "2. OldPeak (depression related number) has a high correlation with heart disease\n",
    "3. Cholestrol (surprisingly) has a negative correlation with heart disease\n",
    "4. Maximum Heart Rate also has a negative correlation with heart disease"
   ],
   "metadata": {
    "collapsed": false
   }
  },
  {
   "cell_type": "markdown",
   "source": [
    "### Analysis of Categorical features"
   ],
   "metadata": {
    "collapsed": false
   }
  },
  {
   "cell_type": "code",
   "execution_count": 336,
   "outputs": [
    {
     "name": "stdout",
     "output_type": "stream",
     "text": [
      "Categorical Columns:  Index(['Sex', 'ChestPainType', 'RestingECG', 'ExerciseAngina', 'ST_Slope'], dtype='object')\n"
     ]
    }
   ],
   "source": [
    "# Get the categorical features from the dataset\n",
    "categorical = df.select_dtypes('object').columns\n",
    "\n",
    "print(f'Categorical Columns:  {df[categorical].columns}')"
   ],
   "metadata": {
    "collapsed": false,
    "pycharm": {
     "name": "#%%\n"
    }
   }
  },
  {
   "cell_type": "code",
   "execution_count": 337,
   "outputs": [
    {
     "data": {
      "text/plain": "  Sex ChestPainType RestingECG ExerciseAngina ST_Slope\n0   M           ATA     Normal              N       Up\n1   F           NAP     Normal              N     Flat\n2   M           ATA         ST              N       Up\n3   F           ASY     Normal              Y     Flat\n4   M           NAP     Normal              N       Up",
      "text/html": "<div>\n<style scoped>\n    .dataframe tbody tr th:only-of-type {\n        vertical-align: middle;\n    }\n\n    .dataframe tbody tr th {\n        vertical-align: top;\n    }\n\n    .dataframe thead th {\n        text-align: right;\n    }\n</style>\n<table border=\"1\" class=\"dataframe\">\n  <thead>\n    <tr style=\"text-align: right;\">\n      <th></th>\n      <th>Sex</th>\n      <th>ChestPainType</th>\n      <th>RestingECG</th>\n      <th>ExerciseAngina</th>\n      <th>ST_Slope</th>\n    </tr>\n  </thead>\n  <tbody>\n    <tr>\n      <th>0</th>\n      <td>M</td>\n      <td>ATA</td>\n      <td>Normal</td>\n      <td>N</td>\n      <td>Up</td>\n    </tr>\n    <tr>\n      <th>1</th>\n      <td>F</td>\n      <td>NAP</td>\n      <td>Normal</td>\n      <td>N</td>\n      <td>Flat</td>\n    </tr>\n    <tr>\n      <th>2</th>\n      <td>M</td>\n      <td>ATA</td>\n      <td>ST</td>\n      <td>N</td>\n      <td>Up</td>\n    </tr>\n    <tr>\n      <th>3</th>\n      <td>F</td>\n      <td>ASY</td>\n      <td>Normal</td>\n      <td>Y</td>\n      <td>Flat</td>\n    </tr>\n    <tr>\n      <th>4</th>\n      <td>M</td>\n      <td>NAP</td>\n      <td>Normal</td>\n      <td>N</td>\n      <td>Up</td>\n    </tr>\n  </tbody>\n</table>\n</div>"
     },
     "execution_count": 337,
     "metadata": {},
     "output_type": "execute_result"
    }
   ],
   "source": [
    "df[categorical].head()\n"
   ],
   "metadata": {
    "collapsed": false,
    "pycharm": {
     "name": "#%%\n"
    }
   }
  },
  {
   "cell_type": "markdown",
   "source": [
    "#### Gender and Heart Disease"
   ],
   "metadata": {
    "collapsed": false
   }
  },
  {
   "cell_type": "code",
   "execution_count": 338,
   "outputs": [
    {
     "name": "stdout",
     "output_type": "stream",
     "text": [
      "A female has a probability of 25.91% to have a heart disease\n",
      "A male has a probability of 63.17% to have a heart disease\n"
     ]
    },
    {
     "data": {
      "text/plain": "<AxesSubplot:xlabel='Sex', ylabel='count'>"
     },
     "execution_count": 338,
     "metadata": {},
     "output_type": "execute_result"
    },
    {
     "data": {
      "text/plain": "<Figure size 576x396 with 1 Axes>",
      "image/png": "[encoded data removed]"
     },
     "metadata": {},
     "output_type": "display_data"
    }
   ],
   "source": [
    "print(f'A female has a probability of {round(df[df[\"Sex\"]==\"F\"][\"HeartDisease\"].mean()*100, 2)}% to have a heart disease')\n",
    "print(f'A male has a probability of {round(df[df[\"Sex\"]==\"M\"][\"HeartDisease\"].mean()*100, 2)}% to have a heart disease')\n",
    "\n",
    "# Create a count plot showing the number of males and females\n",
    "sns.countplot(data=df, x=\"Sex\", hue=\"HeartDisease\")"
   ],
   "metadata": {
    "collapsed": false,
    "pycharm": {
     "name": "#%%\n"
    }
   }
  },
  {
   "cell_type": "markdown",
   "source": [
    "Males are 2.44 times more likely to have heart disease than women"
   ],
   "metadata": {
    "collapsed": false
   }
  },
  {
   "cell_type": "markdown",
   "source": [
    "#### Chest Pain Type and Heart Disease"
   ],
   "metadata": {
    "collapsed": false
   }
  },
  {
   "cell_type": "code",
   "execution_count": 444,
   "outputs": [
    {
     "data": {
      "text/plain": "ChestPainType\nASY    0.790323\nTA     0.434783\nNAP    0.354680\nATA    0.138728\nName: HeartDisease, dtype: float64"
     },
     "execution_count": 444,
     "metadata": {},
     "output_type": "execute_result"
    }
   ],
   "source": [
    "# Show the heart disease probability by chest pain type\n",
    "df.groupby(\"ChestPainType\")[\"HeartDisease\"].mean().sort_values(ascending=False)"
   ],
   "metadata": {
    "collapsed": false,
    "pycharm": {
     "name": "#%%\n"
    }
   }
  },
  {
   "cell_type": "code",
   "execution_count": 445,
   "outputs": [
    {
     "data": {
      "text/plain": "<AxesSubplot:xlabel='ChestPainType', ylabel='count'>"
     },
     "execution_count": 445,
     "metadata": {},
     "output_type": "execute_result"
    },
    {
     "data": {
      "text/plain": "<Figure size 576x396 with 1 Axes>",
      "image/png": "[encoded data removed]"
     },
     "metadata": {},
     "output_type": "display_data"
    }
   ],
   "source": [
    "sns.countplot(data=df, x=\"ChestPainType\", hue=\"HeartDisease\")"
   ],
   "metadata": {
    "collapsed": false,
    "pycharm": {
     "name": "#%%\n"
    }
   }
  },
  {
   "cell_type": "markdown",
   "source": [
    "Observations:\n",
    "1. Nearly 4 out of 5 times when a person has ASY (Asymptomatic chest pain), it points to heart disease"
   ],
   "metadata": {
    "collapsed": false
   }
  },
  {
   "cell_type": "markdown",
   "source": [
    "#### Exercise Type and Heart Disease"
   ],
   "metadata": {
    "collapsed": false
   }
  },
  {
   "cell_type": "code",
   "source": [
    "# Show the heart disease probability by chest pain type\n",
    "df.groupby(\"ExerciseAngina\")[\"HeartDisease\"].mean().sort_values(ascending=False)"
   ],
   "metadata": {
    "collapsed": false,
    "pycharm": {
     "name": "#%%\n"
    }
   },
   "execution_count": 446,
   "outputs": [
    {
     "data": {
      "text/plain": "ExerciseAngina\nY    0.851752\nN    0.351005\nName: HeartDisease, dtype: float64"
     },
     "execution_count": 446,
     "metadata": {},
     "output_type": "execute_result"
    }
   ]
  },
  {
   "cell_type": "code",
   "execution_count": 342,
   "outputs": [
    {
     "data": {
      "text/plain": "<AxesSubplot:xlabel='ExerciseAngina', ylabel='count'>"
     },
     "execution_count": 342,
     "metadata": {},
     "output_type": "execute_result"
    },
    {
     "data": {
      "text/plain": "<Figure size 576x396 with 1 Axes>",
      "image/png": "[encoded data removed]"
     },
     "metadata": {},
     "output_type": "display_data"
    }
   ],
   "source": [
    "sns.countplot(data=df, x=\"ExerciseAngina\", hue=\"HeartDisease\")"
   ],
   "metadata": {
    "collapsed": false,
    "pycharm": {
     "name": "#%%\n"
    }
   }
  },
  {
   "cell_type": "raw",
   "source": [
    "Observations:\n",
    "1. If Exercise Angina is reported Y, the probability of heart disease is 85.1%, which is nearly 2.4 times the probability when Exercise Angina is reported N (35.1%)"
   ],
   "metadata": {
    "collapsed": false,
    "pycharm": {
     "name": "#%% raw\n"
    }
   }
  },
  {
   "cell_type": "markdown",
   "source": [
    "#### Resting ECG and Heart Disease"
   ],
   "metadata": {
    "collapsed": false,
    "pycharm": {
     "name": "#%% md\n"
    }
   }
  },
  {
   "cell_type": "code",
   "execution_count": 343,
   "outputs": [
    {
     "data": {
      "text/plain": "RestingECG\nST        0.657303\nLVH       0.563830\nNormal    0.516304\nName: HeartDisease, dtype: float64"
     },
     "execution_count": 343,
     "metadata": {},
     "output_type": "execute_result"
    }
   ],
   "source": [
    "df.groupby(\"RestingECG\")[\"HeartDisease\"].mean().sort_values(ascending=False)"
   ],
   "metadata": {
    "collapsed": false,
    "pycharm": {
     "name": "#%%\n"
    }
   }
  },
  {
   "cell_type": "code",
   "execution_count": 344,
   "outputs": [
    {
     "data": {
      "text/plain": "<AxesSubplot:xlabel='RestingECG', ylabel='count'>"
     },
     "execution_count": 344,
     "metadata": {},
     "output_type": "execute_result"
    },
    {
     "data": {
      "text/plain": "<Figure size 576x396 with 1 Axes>",
      "image/png": "[encoded data removed]"
     },
     "metadata": {},
     "output_type": "display_data"
    }
   ],
   "source": [
    "sns.countplot(data=df, x=\"RestingECG\", hue=\"HeartDisease\")"
   ],
   "metadata": {
    "collapsed": false,
    "pycharm": {
     "name": "#%%\n"
    }
   }
  },
  {
   "cell_type": "markdown",
   "source": [
    "Observations:\n",
    "1. The data seems to be fairly balanced for all 3 categories.\n",
    "2. If an individual exhibits ST-T wave abnormility, the chances of heart disease are higher (65.1%) than the other 2 categories (56.3% and 51.6%)."
   ],
   "metadata": {
    "collapsed": false
   }
  },
  {
   "cell_type": "markdown",
   "source": [
    "#### ST_Slope and Heart Disease"
   ],
   "metadata": {
    "collapsed": false
   }
  },
  {
   "cell_type": "code",
   "execution_count": 345,
   "outputs": [
    {
     "data": {
      "text/plain": "ST_Slope\nFlat    0.828261\nDown    0.777778\nUp      0.197468\nName: HeartDisease, dtype: float64"
     },
     "execution_count": 345,
     "metadata": {},
     "output_type": "execute_result"
    }
   ],
   "source": [
    "df.groupby(\"ST_Slope\")[\"HeartDisease\"].mean().sort_values(ascending=False)"
   ],
   "metadata": {
    "collapsed": false,
    "pycharm": {
     "name": "#%%\n"
    }
   }
  },
  {
   "cell_type": "code",
   "execution_count": 346,
   "outputs": [
    {
     "data": {
      "text/plain": "<AxesSubplot:xlabel='ST_Slope', ylabel='count'>"
     },
     "execution_count": 346,
     "metadata": {},
     "output_type": "execute_result"
    },
    {
     "data": {
      "text/plain": "<Figure size 576x396 with 1 Axes>",
      "image/png": "[encoded data removed]"
     },
     "metadata": {},
     "output_type": "display_data"
    }
   ],
   "source": [
    "sns.countplot(data=df, x=\"ST_Slope\", hue=\"HeartDisease\")"
   ],
   "metadata": {
    "collapsed": false,
    "pycharm": {
     "name": "#%%\n"
    }
   }
  },
  {
   "cell_type": "markdown",
   "source": [
    "Observations:\n",
    "- If the slopw of the peak exercise ST segment is flat, it indicates a near 82.8% probability of a heart disease"
   ],
   "metadata": {
    "collapsed": false,
    "pycharm": {
     "name": "#%% md\n"
    }
   }
  },
  {
   "cell_type": "markdown",
   "source": [
    "### Remove outliers"
   ],
   "metadata": {
    "collapsed": false
   }
  },
  {
   "cell_type": "code",
   "execution_count": 347,
   "outputs": [
    {
     "name": "stdout",
     "output_type": "stream",
     "text": [
      "Original shape: (918, 12)\n",
      "Shape after outlier removal: (918, 12)\n"
     ]
    }
   ],
   "source": [
    "# Check for outliers\n",
    "from scipy import stats\n",
    "import numpy as np\n",
    "z = np.abs(stats.zscore(df[numerical]))\n",
    "print(f'Original shape: {df.shape}')\n",
    "\n",
    "# Filter out the values with z score higher than 3\n",
    "threshold = 3\n",
    "df[numerical]= df[numerical][(z < threshold).all(axis=1)]\n",
    "print(f'Shape after outlier removal: {df.shape}')"
   ],
   "metadata": {
    "collapsed": false,
    "pycharm": {
     "name": "#%%\n"
    }
   }
  },
  {
   "cell_type": "markdown",
   "source": [
    "No outliers detected in the numerical columns"
   ],
   "metadata": {
    "collapsed": false
   }
  },
  {
   "cell_type": "markdown",
   "source": [
    "## Check for imbalance in output"
   ],
   "metadata": {
    "collapsed": false
   }
  },
  {
   "cell_type": "code",
   "execution_count": 447,
   "outputs": [
    {
     "name": "stdout",
     "output_type": "stream",
     "text": [
      "Percentage of patient had a HeartDisease:  55.34 %  --> (508 patient)\n",
      "Percentage of patient did not have a HeartDisease: 44.66  %  --> (410 patient)\n"
     ]
    }
   ],
   "source": [
    "\n",
    "# Check for imbalance\n",
    "y = df.HeartDisease\n",
    "print(f'Percentage of patient had a HeartDisease:  {round(y.value_counts(normalize=True)[1]*100,2)} %  --> ({y.value_counts()[1]} patient)\\nPercentage of patient did not have a HeartDisease: {round(y.value_counts(normalize=True)[0]*100,2)}  %  --> ({y.value_counts()[0]} patient)')\n"
   ],
   "metadata": {
    "collapsed": false,
    "pycharm": {
     "name": "#%%\n"
    }
   }
  },
  {
   "cell_type": "code",
   "execution_count": 349,
   "outputs": [
    {
     "data": {
      "text/plain": "<AxesSubplot:ylabel='Frequency'>"
     },
     "execution_count": 349,
     "metadata": {},
     "output_type": "execute_result"
    },
    {
     "data": {
      "text/plain": "<Figure size 576x396 with 1 Axes>",
      "image/png": "[encoded data removed]"
     },
     "metadata": {},
     "output_type": "display_data"
    }
   ],
   "source": [
    "df.HeartDisease.plot.hist(legend=True, bins=2)"
   ],
   "metadata": {
    "collapsed": false,
    "pycharm": {
     "name": "#%%\n"
    }
   }
  },
  {
   "cell_type": "markdown",
   "source": [
    "Observations:\n",
    "- This is a fairly balanced output. 55.34% had heart diseases and 44.66% did not."
   ],
   "metadata": {
    "collapsed": false
   }
  },
  {
   "cell_type": "markdown",
   "source": [
    "## Model Selection\n",
    "\n",
    "- Multiple models will be used to train on the dataset and make predictions. Finally we will compare the models to see which was the best performing\n",
    "- Models under test\n",
    "    - Dummy classifier as a base model\n",
    "    - Logistic Regression (with and without scalar)\n",
    "    - Linear Discriminant (with and without scalar)\n",
    "    - K-Nearest Neighbors (KNN) (with and without scalar)\n",
    "    - Support Vector Machine (SVM) (with and without scalar)\n",
    "    - Ensemble methods :\n",
    "        - Adaboost\n",
    "        - Random Forest\n",
    "        - Gradient Boosting\n",
    "        - Extra Trees\n",
    "    - Other famous models\n",
    "        - XGBoost\n",
    "        - LightGBM\n",
    "        - CatBoost\n",
    "- Hyperparamater tuning for CatBoost model\n"
   ],
   "metadata": {
    "collapsed": false
   }
  },
  {
   "cell_type": "markdown",
   "source": [
    "### Baseline Model"
   ],
   "metadata": {
    "collapsed": false,
    "pycharm": {
     "name": "#%% md\n"
    }
   }
  },
  {
   "cell_type": "code",
   "execution_count": 459,
   "outputs": [],
   "source": [
    "model_accuracy = []\n",
    "model_names = []\n",
    "\n",
    "X = df.drop(\"HeartDisease\", axis=1)\n",
    "y = df.HeartDisease"
   ],
   "metadata": {
    "collapsed": false,
    "pycharm": {
     "name": "#%%\n"
    }
   }
  },
  {
   "cell_type": "code",
   "execution_count": 449,
   "outputs": [],
   "source": [
    "# Divide the data into training and test sets\n",
    "X_train, X_test, y_train, y_test = train_test_split(X, y, test_size=0.3, random_state=42)\n",
    "\n",
    "# Perform onehotencoding for categorical features and scaling for numerical features\n",
    "def encode_and_scale_df(scale_flag):\n",
    "    ohe = OneHotEncoder()\n",
    "    if scale_flag == True:\n",
    "        s = StandardScaler()\n",
    "        ct = make_column_transformer((ohe, categorical), (s, numerical)) # By specifying remainder='passthrough', all remaining columns that were not specified in transformers will be automatically passed through.\n",
    "    else:\n",
    "        ct = make_column_transformer((ohe, categorical), remainder='passthrough') # By specifying remainder='passthrough', all remaining columns that were not specified in transformers will be automatically passed through.\n",
    "    return ct"
   ],
   "metadata": {
    "collapsed": false,
    "pycharm": {
     "name": "#%%\n"
    }
   }
  },
  {
   "cell_type": "code",
   "execution_count": 450,
   "outputs": [],
   "source": [
    "# Create a horizontal bar plot showing the features important to a model in decreasing order\n",
    "def feature_importance(model):\n",
    "    feature_importance = np.array(model.get_feature_importance())\n",
    "    features = np.array(X_train.columns)\n",
    "    fi={'features':features,'feature_importance':feature_importance}\n",
    "\n",
    "    # Convert to dataframe and sort by importance descending\n",
    "    df_fi = pd.DataFrame(fi)\n",
    "    df_fi.sort_values(by=['feature_importance'], ascending=False,inplace=True)\n",
    "\n",
    "    sns.barplot(data=df_fi, x='feature_importance', y='features')\n",
    "    plt.title(\"CatBoost Feature Importance\")\n",
    "    plt.show()"
   ],
   "metadata": {
    "collapsed": false,
    "pycharm": {
     "name": "#%%\n"
    }
   }
  },
  {
   "cell_type": "code",
   "execution_count": 451,
   "outputs": [],
   "source": [
    "# Function to train the model, make prediction and calculate the accuracy\n",
    "def create_model(model_name, scale_flag, **tuned_params):\n",
    "\n",
    "    if model_name == \"Dummy Classifier\":\n",
    "        model = DummyClassifier(strategy='constant', constant=1)\n",
    "    elif model_name == \"Logistic Regression\" or  model_name == \"Logistic Regression - scaled\":\n",
    "        model = LogisticRegression(solver='liblinear')\n",
    "    elif model_name == \"Linear Discriminant Analysis\" or model_name == \"Linear Discriminant Analysis - scaled\":\n",
    "        model = LinearDiscriminantAnalysis()\n",
    "    elif model_name == \"SVM\" or model_name == \"SVM - scaled\":\n",
    "        model = SVC(gamma='scale')\n",
    "    elif model_name == \"K-Neighbor Classifier\" or model_name == \"K-Neighbor Classifier - scaled\":\n",
    "        model = KNeighborsClassifier()\n",
    "    elif model_name == \"AdaBoost\":\n",
    "        model = AdaBoostClassifier(random_state=0)\n",
    "    elif model_name == \"Gradient Boosting\":\n",
    "        model = GradientBoostingClassifier(random_state=0)\n",
    "    elif model_name == \"Random Forest\":\n",
    "        model = RandomForestClassifier(random_state=0)\n",
    "    elif model_name == \"Extra Trees\":\n",
    "        model = ExtraTreesClassifier(random_state=0)\n",
    "    elif model_name == \"XGBoost\":\n",
    "        model = XGBClassifier(random_state=0)\n",
    "    elif model_name == \"LightGBM\":\n",
    "        model = LGBMClassifier(random_state=0)\n",
    "    elif model_name == \"CatBoost\":\n",
    "        model = CatBoostClassifier(verbose=False, random_state=0)\n",
    "\n",
    "        # Get the indices of the columns that are categorical\n",
    "        categorical_indices = np.where(X.dtypes != float)[0]\n",
    "    elif model_name == \"CatBoost - tuned\":\n",
    "        model = CatBoostClassifier(verbose=False,random_state=0,\n",
    "                    objective = tuned_params[\"tuned_params\"][\"objective\"],\n",
    "                    colsample_bylevel= tuned_params[\"tuned_params\"][\"colsample_bylevel\"],\n",
    "                    depth= tuned_params[\"tuned_params\"][\"depth\"],\n",
    "                    boosting_type= tuned_params[\"tuned_params\"][\"boosting_type\"],\n",
    "                    bootstrap_type= tuned_params[\"tuned_params\"][\"bootstrap_type\"])\n",
    "\n",
    "        # Get the indices of the columns that are categorical\n",
    "        categorical_indices = np.where(X.dtypes != float)[0]\n",
    "\n",
    "    # Create the model\n",
    "    if model_name == \"CatBoost\":\n",
    "        model.fit(X_train, y_train, cat_features=categorical_indices, eval_set=(X_test, y_test))\n",
    "\n",
    "        # Prediction the output on test set\n",
    "        y_pred = model.predict(X_test)\n",
    "    elif model_name == \"CatBoost - tuned\":\n",
    "        model.fit(X_train, y_train, cat_features=categorical_indices, eval_set=(X_test, y_test))\n",
    "\n",
    "        # Prediction the output on test set\n",
    "        y_pred = model.predict(X_test)\n",
    "        print(classification_report(y_test, y_pred))\n",
    "\n",
    "        # Feature importance\n",
    "        feature_importance(model)\n",
    "    else:\n",
    "        ct = encode_and_scale_df(scale_flag)\n",
    "        pipe = make_pipeline(ct, model)\n",
    "        pipe.fit(X_train, y_train)\n",
    "\n",
    "        # Predict the output on the test set\n",
    "        y_pred = pipe.predict(X_test)\n",
    "\n",
    "    # Calculate accuracy\n",
    "    acc_score = round(accuracy_score(y_test, y_pred),4)\n",
    "\n",
    "    # Print the model accuracy\n",
    "    print(f'Model: {model} ; Accuracy Score: {acc_score*100}%')\n",
    "\n",
    "    # Append the accuracy into the accuracy list\n",
    "    model_accuracy.append(acc_score)\n",
    "    model_names.append(model_name)\n",
    "\n",
    "\n"
   ],
   "metadata": {
    "collapsed": false,
    "pycharm": {
     "name": "#%%\n"
    }
   }
  },
  {
   "cell_type": "code",
   "execution_count": 460,
   "outputs": [
    {
     "name": "stdout",
     "output_type": "stream",
     "text": [
      "Model: DummyClassifier(constant=1, strategy='constant') ; Accuracy Score: 59.419999999999995%\n"
     ]
    }
   ],
   "source": [
    "# Dummy Classifier\n",
    "\n",
    "# Call the function for all models\n",
    "create_model(\"Dummy Classifier\", scale_flag=False)\n"
   ],
   "metadata": {
    "collapsed": false,
    "pycharm": {
     "name": "#%%\n"
    }
   }
  },
  {
   "cell_type": "code",
   "execution_count": 461,
   "outputs": [],
   "source": [
    "# Store the result in a dataframe\n",
    "#result_df = pd.DataFrame({'Accuracy': model_accuracy}, index=model_names)\n",
    "#result_df"
   ],
   "metadata": {
    "collapsed": false,
    "pycharm": {
     "name": "#%%\n"
    }
   }
  },
  {
   "cell_type": "markdown",
   "source": [
    "### Part 2a: Logistic Regression, Linear Discriminant Analysis, SVM, K-Neighbor Classifier without Scaling"
   ],
   "metadata": {
    "collapsed": false
   }
  },
  {
   "cell_type": "code",
   "execution_count": 462,
   "outputs": [
    {
     "name": "stdout",
     "output_type": "stream",
     "text": [
      "Model: LogisticRegression(solver='liblinear') ; Accuracy Score: 88.41%\n",
      "Model: LinearDiscriminantAnalysis() ; Accuracy Score: 86.96000000000001%\n",
      "Model: SVC() ; Accuracy Score: 72.46000000000001%\n",
      "Model: KNeighborsClassifier() ; Accuracy Score: 71.74000000000001%\n"
     ]
    }
   ],
   "source": [
    "models_list = [\"Logistic Regression\", \"Linear Discriminant Analysis\", \"SVM\", \"K-Neighbor Classifier\"]\n",
    "for model in models_list:\n",
    "    create_model(model, scale_flag=False)"
   ],
   "metadata": {
    "collapsed": false,
    "pycharm": {
     "name": "#%%\n"
    }
   }
  },
  {
   "cell_type": "markdown",
   "source": [
    "Notes about selecting solver for LogisticRegression model:\n",
    "solver types : ‘newton-cg’, ‘lbfgs’, ‘liblinear’, ‘sag’, ‘saga’. Algorithm to use in the optimization problem. Default is ‘lbfgs’. To choose a solver, consider the following aspects:\n",
    "- For small datasets, ‘liblinear’ is a good choice, whereas ‘sag’ and ‘saga’ are faster for large ones\n",
    "- For multiclass problems, only ‘newton-cg’, ‘sag’, ‘saga’ and ‘lbfgs’ handle multinomial loss\n",
    "- ‘liblinear’ is limited to one-versus-rest schemes."
   ],
   "metadata": {
    "collapsed": false
   }
  },
  {
   "cell_type": "markdown",
   "source": [
    "### Part 2b: Logistic Regression, Linear Discriminant Analysis, SVM, K-Neighbor Classifier with Scaling"
   ],
   "metadata": {
    "collapsed": false
   }
  },
  {
   "cell_type": "code",
   "execution_count": 463,
   "outputs": [
    {
     "name": "stdout",
     "output_type": "stream",
     "text": [
      "Model: LogisticRegression(solver='liblinear') ; Accuracy Score: 88.03999999999999%\n",
      "Model: LinearDiscriminantAnalysis() ; Accuracy Score: 86.96000000000001%\n",
      "Model: SVC() ; Accuracy Score: 88.41%\n",
      "Model: KNeighborsClassifier() ; Accuracy Score: 88.41%\n"
     ]
    }
   ],
   "source": [
    "models_list = [\"Logistic Regression - scaled\", \"Linear Discriminant Analysis - scaled\", \"SVM - scaled\", \"K-Neighbor Classifier - scaled\"]\n",
    "for models in models_list:\n",
    "    create_model(models, scale_flag=True)"
   ],
   "metadata": {
    "collapsed": false,
    "pycharm": {
     "name": "#%%\n"
    }
   }
  },
  {
   "cell_type": "code",
   "execution_count": 464,
   "outputs": [],
   "source": [
    "#result_df = pd.DataFrame({'Accuracy': model_accuracy}, index=model_names)\n",
    "#result_df"
   ],
   "metadata": {
    "collapsed": false,
    "pycharm": {
     "name": "#%%\n"
    }
   }
  },
  {
   "cell_type": "markdown",
   "source": [
    "Observations post scaling:\n",
    "- SVM accuracy went from 72.46% to 88.41%\n",
    "- K-Neighbors Classifier accuracy went up from 71.74% to 88.41%"
   ],
   "metadata": {
    "collapsed": false
   }
  },
  {
   "cell_type": "markdown",
   "source": [
    "### Part 3: Ensemble Models (AdaBoost & Gradient Boosting & Random Forest & Extra Trees)"
   ],
   "metadata": {
    "collapsed": false,
    "pycharm": {
     "name": "#%% md\n"
    }
   }
  },
  {
   "cell_type": "code",
   "execution_count": 465,
   "outputs": [
    {
     "name": "stdout",
     "output_type": "stream",
     "text": [
      "Model: AdaBoostClassifier(random_state=0) ; Accuracy Score: 86.59%\n",
      "Model: GradientBoostingClassifier(random_state=0) ; Accuracy Score: 87.68%\n",
      "Model: RandomForestClassifier(random_state=0) ; Accuracy Score: 88.77000000000001%\n",
      "Model: ExtraTreesClassifier(random_state=0) ; Accuracy Score: 88.03999999999999%\n"
     ]
    }
   ],
   "source": [
    "models_list = [\"AdaBoost\", \"Gradient Boosting\", \"Random Forest\", \"Extra Trees\"]\n",
    "for models in models_list:\n",
    "    create_model(models, scale_flag=False)"
   ],
   "metadata": {
    "collapsed": false,
    "pycharm": {
     "name": "#%%\n"
    }
   }
  },
  {
   "cell_type": "code",
   "execution_count": 466,
   "outputs": [],
   "source": [
    "#result_df = pd.DataFrame({'Accuracy': model_accuracy}, index=model_names)\n",
    "#result_df"
   ],
   "metadata": {
    "collapsed": false,
    "pycharm": {
     "name": "#%%\n"
    }
   }
  },
  {
   "cell_type": "markdown",
   "source": [
    "### Part 4a: XGBoost & LightGBM"
   ],
   "metadata": {
    "collapsed": false,
    "pycharm": {
     "name": "#%% md\n"
    }
   }
  },
  {
   "cell_type": "code",
   "execution_count": 467,
   "outputs": [
    {
     "name": "stderr",
     "output_type": "stream",
     "text": [
      "/Users/mridul/opt/anaconda3/envs/python3.7/lib/python3.7/site-packages/xgboost/sklearn.py:1224: UserWarning: The use of label encoder in XGBClassifier is deprecated and will be removed in a future release. To remove this warning, do the following: 1) Pass option use_label_encoder=False when constructing XGBClassifier object; and 2) Encode your labels (y) as integers starting with 0, i.e. 0, 1, 2, ..., [num_class - 1].\n",
      "  warnings.warn(label_encoder_deprecation_msg, UserWarning)\n"
     ]
    },
    {
     "name": "stdout",
     "output_type": "stream",
     "text": [
      "[18:43:48] WARNING: ../src/learner.cc:1115: Starting in XGBoost 1.3.0, the default evaluation metric used with the objective 'binary:logistic' was changed from 'error' to 'logloss'. Explicitly set eval_metric if you'd like to restore the old behavior.\n",
      "Model: XGBClassifier(base_score=0.5, booster='gbtree', colsample_bylevel=1,\n",
      "              colsample_bynode=1, colsample_bytree=1, enable_categorical=False,\n",
      "              gamma=0, gpu_id=-1, importance_type=None,\n",
      "              interaction_constraints='', learning_rate=0.300000012,\n",
      "              max_delta_step=0, max_depth=6, min_child_weight=1, missing=nan,\n",
      "              monotone_constraints='()', n_estimators=100, n_jobs=10,\n",
      "              num_parallel_tree=1, predictor='auto', random_state=0,\n",
      "              reg_alpha=0, reg_lambda=1, scale_pos_weight=1, subsample=1,\n",
      "              tree_method='exact', validate_parameters=1, verbosity=None) ; Accuracy Score: 82.97%\n",
      "Model: LGBMClassifier(random_state=0) ; Accuracy Score: 87.32%\n"
     ]
    }
   ],
   "source": [
    "models_list = [\"XGBoost\", \"LightGBM\"]\n",
    "for models in models_list:\n",
    "    create_model(models, scale_flag=False)"
   ],
   "metadata": {
    "collapsed": false,
    "pycharm": {
     "name": "#%%\n"
    }
   }
  },
  {
   "cell_type": "code",
   "execution_count": 468,
   "outputs": [],
   "source": [
    "#result_df = pd.DataFrame({'Accuracy': model_accuracy}, index=model_names)\n",
    "#result_df"
   ],
   "metadata": {
    "collapsed": false,
    "pycharm": {
     "name": "#%%\n"
    }
   }
  },
  {
   "cell_type": "markdown",
   "source": [
    "### Part 4b: CatBoost - without optimization"
   ],
   "metadata": {
    "collapsed": false,
    "pycharm": {
     "name": "#%% md\n"
    }
   }
  },
  {
   "cell_type": "code",
   "execution_count": 469,
   "outputs": [
    {
     "name": "stdout",
     "output_type": "stream",
     "text": [
      "Model: <catboost.core.CatBoostClassifier object at 0x7fd05cdc8cd0> ; Accuracy Score: 88.03999999999999%\n"
     ]
    }
   ],
   "source": [
    "create_model(\"CatBoost\", scale_flag=False)"
   ],
   "metadata": {
    "collapsed": false,
    "pycharm": {
     "name": "#%%\n"
    }
   }
  },
  {
   "cell_type": "code",
   "execution_count": 470,
   "outputs": [
    {
     "data": {
      "text/plain": "                                       Accuracy\nDummy Classifier                         0.5942\nLogistic Regression                      0.8841\nLinear Discriminant Analysis             0.8696\nSVM                                      0.7246\nK-Neighbor Classifier                    0.7174\nLogistic Regression - scaled             0.8804\nLinear Discriminant Analysis - scaled    0.8696\nSVM - scaled                             0.8841\nK-Neighbor Classifier - scaled           0.8841\nAdaBoost                                 0.8659\nGradient Boosting                        0.8768\nRandom Forest                            0.8877\nExtra Trees                              0.8804\nXGBoost                                  0.8297\nLightGBM                                 0.8732\nCatBoost                                 0.8804",
      "text/html": "<div>\n<style scoped>\n    .dataframe tbody tr th:only-of-type {\n        vertical-align: middle;\n    }\n\n    .dataframe tbody tr th {\n        vertical-align: top;\n    }\n\n    .dataframe thead th {\n        text-align: right;\n    }\n</style>\n<table border=\"1\" class=\"dataframe\">\n  <thead>\n    <tr style=\"text-align: right;\">\n      <th></th>\n      <th>Accuracy</th>\n    </tr>\n  </thead>\n  <tbody>\n    <tr>\n      <th>Dummy Classifier</th>\n      <td>0.5942</td>\n    </tr>\n    <tr>\n      <th>Logistic Regression</th>\n      <td>0.8841</td>\n    </tr>\n    <tr>\n      <th>Linear Discriminant Analysis</th>\n      <td>0.8696</td>\n    </tr>\n    <tr>\n      <th>SVM</th>\n      <td>0.7246</td>\n    </tr>\n    <tr>\n      <th>K-Neighbor Classifier</th>\n      <td>0.7174</td>\n    </tr>\n    <tr>\n      <th>Logistic Regression - scaled</th>\n      <td>0.8804</td>\n    </tr>\n    <tr>\n      <th>Linear Discriminant Analysis - scaled</th>\n      <td>0.8696</td>\n    </tr>\n    <tr>\n      <th>SVM - scaled</th>\n      <td>0.8841</td>\n    </tr>\n    <tr>\n      <th>K-Neighbor Classifier - scaled</th>\n      <td>0.8841</td>\n    </tr>\n    <tr>\n      <th>AdaBoost</th>\n      <td>0.8659</td>\n    </tr>\n    <tr>\n      <th>Gradient Boosting</th>\n      <td>0.8768</td>\n    </tr>\n    <tr>\n      <th>Random Forest</th>\n      <td>0.8877</td>\n    </tr>\n    <tr>\n      <th>Extra Trees</th>\n      <td>0.8804</td>\n    </tr>\n    <tr>\n      <th>XGBoost</th>\n      <td>0.8297</td>\n    </tr>\n    <tr>\n      <th>LightGBM</th>\n      <td>0.8732</td>\n    </tr>\n    <tr>\n      <th>CatBoost</th>\n      <td>0.8804</td>\n    </tr>\n  </tbody>\n</table>\n</div>"
     },
     "execution_count": 470,
     "metadata": {},
     "output_type": "execute_result"
    }
   ],
   "source": [
    "result_df = pd.DataFrame({'Accuracy': model_accuracy}, index=model_names)\n",
    "result_df"
   ],
   "metadata": {
    "collapsed": false,
    "pycharm": {
     "name": "#%%\n"
    }
   }
  },
  {
   "cell_type": "markdown",
   "source": [
    "## Tuning Catboost model using OPTUNA\n",
    "\n",
    "OPTUNA library was used to optimise the catboost algorithm. It has not been included in this notebook since there was incompatibility"
   ],
   "metadata": {
    "collapsed": false
   }
  },
  {
   "cell_type": "code",
   "execution_count": 471,
   "outputs": [],
   "source": [
    "# Hypertune the catboost model using optuna\n",
    "def objective(trial):\n",
    "    # Get indices that contain categorical features\n",
    "    categorical_features_indices = np.where(X.dtypes != float)[0]\n",
    "\n",
    "    param = {\n",
    "        \"objective\": trial.suggest_categorical(\"objective\", [\"Logloss\", \"CrossEntropy\"]),\n",
    "        \"colsample_bylevel\": trial.suggest_float(\"colsample_bylevel\", 0.01, 0.1),\n",
    "        \"depth\": trial.suggest_int(\"depth\", 1, 12),\n",
    "        \"boosting_type\":trial.suggest_categorical(\"boosting_type\", [\"Ordered\", \"Plain\"]),\n",
    "        \"bootstrap_type\":trial.suggest_categorical(\n",
    "            \"bootstrap_type\", [\"Bayesian\", \"Bernoulli\", \"MVS\"]\n",
    "        ),\n",
    "        \"used_ram_limit\": \"3gb\",\n",
    "    }\n",
    "\n",
    "    # Additional paramaters to be studied depending on the bootstrap type\n",
    "    if param[\"bootstrap_type\"] == \"Bayesian\":\n",
    "        param[\"bagging_temperature\"] = trial.suggest_float(\"bagging_temperature\", 0, 10)\n",
    "    elif param[\"bootstrap_type\"] == \"Bernoulli\":\n",
    "        param[\"subsample\"] = trial.suggest_float(\"subsample\", 0.1, 1)\n",
    "\n",
    "    # Add params to the Catbood classifier\n",
    "    cat_cls = CatBoostClassifier(**param)\n",
    "\n",
    "    cat_cls.fit(X_train, y_train, eval_set=[(X_test, y_test)], cat_features=categorical_features_indices,verbose=0, early_stopping_rounds=100)\n",
    "\n",
    "    preds = cat_cls.predict(X_test)\n",
    "    pred_labels = np.rint(preds)\n",
    "    accuracy = accuracy_score(y_test, pred_labels)\n",
    "    return accuracy\n"
   ],
   "metadata": {
    "collapsed": false,
    "pycharm": {
     "name": "#%%\n"
    }
   }
  },
  {
   "cell_type": "code",
   "execution_count": 472,
   "outputs": [
    {
     "name": "stderr",
     "output_type": "stream",
     "text": [
      "\u001B[32m[I 2022-05-29 18:44:38,564]\u001B[0m A new study created in memory with name: no-name-51c30858-4288-4876-8dfb-304717406ab2\u001B[0m\n",
      "\u001B[32m[I 2022-05-29 18:44:38,900]\u001B[0m Trial 0 finished with value: 0.8913043478260869 and parameters: {'objective': 'CrossEntropy', 'colsample_bylevel': 0.019249537000481952, 'depth': 12, 'boosting_type': 'Plain', 'bootstrap_type': 'MVS'}. Best is trial 0 with value: 0.8913043478260869.\u001B[0m\n",
      "\u001B[32m[I 2022-05-29 18:44:39,213]\u001B[0m Trial 1 finished with value: 0.8514492753623188 and parameters: {'objective': 'Logloss', 'colsample_bylevel': 0.0332905212193338, 'depth': 1, 'boosting_type': 'Plain', 'bootstrap_type': 'Bayesian', 'bagging_temperature': 5.857289289329981}. Best is trial 0 with value: 0.8913043478260869.\u001B[0m\n",
      "\u001B[32m[I 2022-05-29 18:44:40,093]\u001B[0m Trial 2 finished with value: 0.8623188405797102 and parameters: {'objective': 'Logloss', 'colsample_bylevel': 0.09013784134570069, 'depth': 8, 'boosting_type': 'Plain', 'bootstrap_type': 'Bayesian', 'bagging_temperature': 4.8158506234194896}. Best is trial 0 with value: 0.8913043478260869.\u001B[0m\n",
      "\u001B[32m[I 2022-05-29 18:44:41,584]\u001B[0m Trial 3 finished with value: 0.8913043478260869 and parameters: {'objective': 'Logloss', 'colsample_bylevel': 0.08227046897040079, 'depth': 10, 'boosting_type': 'Plain', 'bootstrap_type': 'Bernoulli', 'subsample': 0.25226738414500605}. Best is trial 0 with value: 0.8913043478260869.\u001B[0m\n",
      "\u001B[32m[I 2022-05-29 18:44:42,047]\u001B[0m Trial 4 finished with value: 0.8913043478260869 and parameters: {'objective': 'CrossEntropy', 'colsample_bylevel': 0.04584087263636955, 'depth': 8, 'boosting_type': 'Plain', 'bootstrap_type': 'Bernoulli', 'subsample': 0.6927620643916979}. Best is trial 0 with value: 0.8913043478260869.\u001B[0m\n",
      "\u001B[32m[I 2022-05-29 18:44:42,884]\u001B[0m Trial 5 finished with value: 0.8840579710144928 and parameters: {'objective': 'Logloss', 'colsample_bylevel': 0.0609581031545677, 'depth': 10, 'boosting_type': 'Plain', 'bootstrap_type': 'Bernoulli', 'subsample': 0.5183047868868126}. Best is trial 0 with value: 0.8913043478260869.\u001B[0m\n",
      "\u001B[32m[I 2022-05-29 18:44:43,329]\u001B[0m Trial 6 finished with value: 0.8876811594202898 and parameters: {'objective': 'CrossEntropy', 'colsample_bylevel': 0.055469351619407685, 'depth': 3, 'boosting_type': 'Plain', 'bootstrap_type': 'MVS'}. Best is trial 0 with value: 0.8913043478260869.\u001B[0m\n",
      "\u001B[32m[I 2022-05-29 18:44:43,694]\u001B[0m Trial 7 finished with value: 0.8913043478260869 and parameters: {'objective': 'CrossEntropy', 'colsample_bylevel': 0.025803375584451775, 'depth': 7, 'boosting_type': 'Plain', 'bootstrap_type': 'MVS'}. Best is trial 0 with value: 0.8913043478260869.\u001B[0m\n",
      "\u001B[32m[I 2022-05-29 18:44:44,227]\u001B[0m Trial 8 finished with value: 0.8840579710144928 and parameters: {'objective': 'Logloss', 'colsample_bylevel': 0.043104205277072004, 'depth': 11, 'boosting_type': 'Plain', 'bootstrap_type': 'MVS'}. Best is trial 0 with value: 0.8913043478260869.\u001B[0m\n",
      "\u001B[32m[I 2022-05-29 18:44:44,952]\u001B[0m Trial 9 finished with value: 0.8876811594202898 and parameters: {'objective': 'CrossEntropy', 'colsample_bylevel': 0.06204935568578549, 'depth': 9, 'boosting_type': 'Plain', 'bootstrap_type': 'Bayesian', 'bagging_temperature': 3.3640217093328664}. Best is trial 0 with value: 0.8913043478260869.\u001B[0m\n",
      "\u001B[32m[I 2022-05-29 18:44:45,662]\u001B[0m Trial 10 finished with value: 0.894927536231884 and parameters: {'objective': 'CrossEntropy', 'colsample_bylevel': 0.012677714878031838, 'depth': 12, 'boosting_type': 'Ordered', 'bootstrap_type': 'MVS'}. Best is trial 10 with value: 0.894927536231884.\u001B[0m\n",
      "\u001B[32m[I 2022-05-29 18:44:46,332]\u001B[0m Trial 11 finished with value: 0.8695652173913043 and parameters: {'objective': 'CrossEntropy', 'colsample_bylevel': 0.011307572157264722, 'depth': 12, 'boosting_type': 'Ordered', 'bootstrap_type': 'MVS'}. Best is trial 10 with value: 0.894927536231884.\u001B[0m\n",
      "\u001B[32m[I 2022-05-29 18:44:46,993]\u001B[0m Trial 12 finished with value: 0.8876811594202898 and parameters: {'objective': 'CrossEntropy', 'colsample_bylevel': 0.0101525026450609, 'depth': 12, 'boosting_type': 'Ordered', 'bootstrap_type': 'MVS'}. Best is trial 10 with value: 0.894927536231884.\u001B[0m\n",
      "\u001B[32m[I 2022-05-29 18:44:47,784]\u001B[0m Trial 13 finished with value: 0.8913043478260869 and parameters: {'objective': 'CrossEntropy', 'colsample_bylevel': 0.025703844578908366, 'depth': 4, 'boosting_type': 'Ordered', 'bootstrap_type': 'MVS'}. Best is trial 10 with value: 0.894927536231884.\u001B[0m\n",
      "\u001B[32m[I 2022-05-29 18:44:48,724]\u001B[0m Trial 14 finished with value: 0.8876811594202898 and parameters: {'objective': 'CrossEntropy', 'colsample_bylevel': 0.020708963005738126, 'depth': 5, 'boosting_type': 'Ordered', 'bootstrap_type': 'MVS'}. Best is trial 10 with value: 0.894927536231884.\u001B[0m\n",
      "\u001B[32m[I 2022-05-29 18:44:49,883]\u001B[0m Trial 15 finished with value: 0.8913043478260869 and parameters: {'objective': 'CrossEntropy', 'colsample_bylevel': 0.036215491985945716, 'depth': 12, 'boosting_type': 'Ordered', 'bootstrap_type': 'MVS'}. Best is trial 10 with value: 0.894927536231884.\u001B[0m\n",
      "\u001B[32m[I 2022-05-29 18:44:52,171]\u001B[0m Trial 16 finished with value: 0.8913043478260869 and parameters: {'objective': 'CrossEntropy', 'colsample_bylevel': 0.0742064768132448, 'depth': 10, 'boosting_type': 'Ordered', 'bootstrap_type': 'MVS'}. Best is trial 10 with value: 0.894927536231884.\u001B[0m\n",
      "\u001B[32m[I 2022-05-29 18:44:52,689]\u001B[0m Trial 17 finished with value: 0.8876811594202898 and parameters: {'objective': 'CrossEntropy', 'colsample_bylevel': 0.01896029333280722, 'depth': 6, 'boosting_type': 'Ordered', 'bootstrap_type': 'MVS'}. Best is trial 10 with value: 0.894927536231884.\u001B[0m\n",
      "\u001B[32m[I 2022-05-29 18:44:53,574]\u001B[0m Trial 18 finished with value: 0.8876811594202898 and parameters: {'objective': 'CrossEntropy', 'colsample_bylevel': 0.03189920382341388, 'depth': 11, 'boosting_type': 'Ordered', 'bootstrap_type': 'Bernoulli', 'subsample': 0.9937536681943215}. Best is trial 10 with value: 0.894927536231884.\u001B[0m\n",
      "\u001B[32m[I 2022-05-29 18:44:54,664]\u001B[0m Trial 19 finished with value: 0.8913043478260869 and parameters: {'objective': 'CrossEntropy', 'colsample_bylevel': 0.04717684539844176, 'depth': 8, 'boosting_type': 'Ordered', 'bootstrap_type': 'Bayesian', 'bagging_temperature': 9.979813169973351}. Best is trial 10 with value: 0.894927536231884.\u001B[0m\n",
      "\u001B[32m[I 2022-05-29 18:44:55,011]\u001B[0m Trial 20 finished with value: 0.8913043478260869 and parameters: {'objective': 'CrossEntropy', 'colsample_bylevel': 0.017048964519935362, 'depth': 11, 'boosting_type': 'Plain', 'bootstrap_type': 'MVS'}. Best is trial 10 with value: 0.894927536231884.\u001B[0m\n",
      "\u001B[32m[I 2022-05-29 18:44:57,528]\u001B[0m Trial 21 finished with value: 0.8985507246376812 and parameters: {'objective': 'CrossEntropy', 'colsample_bylevel': 0.07391404296145922, 'depth': 10, 'boosting_type': 'Ordered', 'bootstrap_type': 'MVS'}. Best is trial 21 with value: 0.8985507246376812.\u001B[0m\n",
      "\u001B[32m[I 2022-05-29 18:45:00,243]\u001B[0m Trial 22 finished with value: 0.8913043478260869 and parameters: {'objective': 'CrossEntropy', 'colsample_bylevel': 0.07336145952481901, 'depth': 12, 'boosting_type': 'Ordered', 'bootstrap_type': 'MVS'}. Best is trial 21 with value: 0.8985507246376812.\u001B[0m\n",
      "\u001B[32m[I 2022-05-29 18:45:03,008]\u001B[0m Trial 23 finished with value: 0.8913043478260869 and parameters: {'objective': 'CrossEntropy', 'colsample_bylevel': 0.07380966878027963, 'depth': 9, 'boosting_type': 'Ordered', 'bootstrap_type': 'MVS'}. Best is trial 21 with value: 0.8985507246376812.\u001B[0m\n",
      "\u001B[32m[I 2022-05-29 18:45:08,827]\u001B[0m Trial 24 finished with value: 0.8913043478260869 and parameters: {'objective': 'CrossEntropy', 'colsample_bylevel': 0.0961753166511825, 'depth': 11, 'boosting_type': 'Ordered', 'bootstrap_type': 'MVS'}. Best is trial 21 with value: 0.8985507246376812.\u001B[0m\n",
      "\u001B[32m[I 2022-05-29 18:45:11,448]\u001B[0m Trial 25 finished with value: 0.8840579710144928 and parameters: {'objective': 'CrossEntropy', 'colsample_bylevel': 0.06715847449567681, 'depth': 9, 'boosting_type': 'Ordered', 'bootstrap_type': 'MVS'}. Best is trial 21 with value: 0.8985507246376812.\u001B[0m\n",
      "\u001B[32m[I 2022-05-29 18:45:15,931]\u001B[0m Trial 26 finished with value: 0.894927536231884 and parameters: {'objective': 'CrossEntropy', 'colsample_bylevel': 0.08350841950724333, 'depth': 10, 'boosting_type': 'Ordered', 'bootstrap_type': 'MVS'}. Best is trial 21 with value: 0.8985507246376812.\u001B[0m\n",
      "\u001B[32m[I 2022-05-29 18:45:18,876]\u001B[0m Trial 27 finished with value: 0.894927536231884 and parameters: {'objective': 'Logloss', 'colsample_bylevel': 0.08431903153561654, 'depth': 7, 'boosting_type': 'Ordered', 'bootstrap_type': 'Bayesian', 'bagging_temperature': 0.09418856448385426}. Best is trial 21 with value: 0.8985507246376812.\u001B[0m\n",
      "\u001B[32m[I 2022-05-29 18:45:20,758]\u001B[0m Trial 28 finished with value: 0.9057971014492754 and parameters: {'objective': 'Logloss', 'colsample_bylevel': 0.08253734633246051, 'depth': 6, 'boosting_type': 'Ordered', 'bootstrap_type': 'Bayesian', 'bagging_temperature': 0.10751383318362959}. Best is trial 28 with value: 0.9057971014492754.\u001B[0m\n",
      "\u001B[32m[I 2022-05-29 18:45:22,380]\u001B[0m Trial 29 finished with value: 0.8876811594202898 and parameters: {'objective': 'Logloss', 'colsample_bylevel': 0.08269675271776372, 'depth': 6, 'boosting_type': 'Ordered', 'bootstrap_type': 'Bayesian', 'bagging_temperature': 0.16370490938309937}. Best is trial 28 with value: 0.9057971014492754.\u001B[0m\n",
      "\u001B[32m[I 2022-05-29 18:45:23,254]\u001B[0m Trial 30 finished with value: 0.8804347826086957 and parameters: {'objective': 'Logloss', 'colsample_bylevel': 0.09487937234349443, 'depth': 5, 'boosting_type': 'Ordered', 'bootstrap_type': 'Bayesian', 'bagging_temperature': 0.07783662814214026}. Best is trial 28 with value: 0.9057971014492754.\u001B[0m\n",
      "\u001B[32m[I 2022-05-29 18:45:25,121]\u001B[0m Trial 31 finished with value: 0.8840579710144928 and parameters: {'objective': 'Logloss', 'colsample_bylevel': 0.08514725346337174, 'depth': 7, 'boosting_type': 'Ordered', 'bootstrap_type': 'Bayesian', 'bagging_temperature': 1.9891698354653344}. Best is trial 28 with value: 0.9057971014492754.\u001B[0m\n",
      "\u001B[32m[I 2022-05-29 18:45:26,318]\u001B[0m Trial 32 finished with value: 0.8876811594202898 and parameters: {'objective': 'Logloss', 'colsample_bylevel': 0.09974663893325353, 'depth': 2, 'boosting_type': 'Ordered', 'bootstrap_type': 'Bayesian', 'bagging_temperature': 2.2004161972988623}. Best is trial 28 with value: 0.9057971014492754.\u001B[0m\n",
      "\u001B[32m[I 2022-05-29 18:45:27,552]\u001B[0m Trial 33 finished with value: 0.8804347826086957 and parameters: {'objective': 'Logloss', 'colsample_bylevel': 0.08802245132395113, 'depth': 5, 'boosting_type': 'Ordered', 'bootstrap_type': 'Bayesian', 'bagging_temperature': 1.4087454330251652}. Best is trial 28 with value: 0.9057971014492754.\u001B[0m\n",
      "\u001B[32m[I 2022-05-29 18:45:29,115]\u001B[0m Trial 34 finished with value: 0.8840579710144928 and parameters: {'objective': 'Logloss', 'colsample_bylevel': 0.07715231101559898, 'depth': 7, 'boosting_type': 'Ordered', 'bootstrap_type': 'Bayesian', 'bagging_temperature': 7.810444966910549}. Best is trial 28 with value: 0.9057971014492754.\u001B[0m\n",
      "\u001B[32m[I 2022-05-29 18:45:31,075]\u001B[0m Trial 35 finished with value: 0.8876811594202898 and parameters: {'objective': 'Logloss', 'colsample_bylevel': 0.07967753494123733, 'depth': 8, 'boosting_type': 'Ordered', 'bootstrap_type': 'Bayesian', 'bagging_temperature': 3.92100207706964}. Best is trial 28 with value: 0.9057971014492754.\u001B[0m\n",
      "\u001B[32m[I 2022-05-29 18:45:32,272]\u001B[0m Trial 36 finished with value: 0.8804347826086957 and parameters: {'objective': 'Logloss', 'colsample_bylevel': 0.09268581913107198, 'depth': 4, 'boosting_type': 'Ordered', 'bootstrap_type': 'Bernoulli', 'subsample': 0.14506961137883517}. Best is trial 28 with value: 0.9057971014492754.\u001B[0m\n",
      "\u001B[32m[I 2022-05-29 18:45:33,936]\u001B[0m Trial 37 finished with value: 0.8804347826086957 and parameters: {'objective': 'Logloss', 'colsample_bylevel': 0.06795588482005409, 'depth': 9, 'boosting_type': 'Ordered', 'bootstrap_type': 'Bayesian', 'bagging_temperature': 1.2626052257940992}. Best is trial 28 with value: 0.9057971014492754.\u001B[0m\n",
      "\u001B[32m[I 2022-05-29 18:45:36,414]\u001B[0m Trial 38 finished with value: 0.8840579710144928 and parameters: {'objective': 'Logloss', 'colsample_bylevel': 0.08675915103644553, 'depth': 10, 'boosting_type': 'Ordered', 'bootstrap_type': 'Bayesian', 'bagging_temperature': 6.445086300605457}. Best is trial 28 with value: 0.9057971014492754.\u001B[0m\n",
      "\u001B[32m[I 2022-05-29 18:45:37,228]\u001B[0m Trial 39 finished with value: 0.894927536231884 and parameters: {'objective': 'Logloss', 'colsample_bylevel': 0.06847471007544517, 'depth': 6, 'boosting_type': 'Ordered', 'bootstrap_type': 'Bernoulli', 'subsample': 0.9763526925059526}. Best is trial 28 with value: 0.9057971014492754.\u001B[0m\n",
      "\u001B[32m[I 2022-05-29 18:45:37,798]\u001B[0m Trial 40 finished with value: 0.8913043478260869 and parameters: {'objective': 'Logloss', 'colsample_bylevel': 0.06761334334845305, 'depth': 6, 'boosting_type': 'Plain', 'bootstrap_type': 'Bernoulli', 'subsample': 0.9961431439133738}. Best is trial 28 with value: 0.9057971014492754.\u001B[0m\n",
      "\u001B[32m[I 2022-05-29 18:45:38,511]\u001B[0m Trial 41 finished with value: 0.8913043478260869 and parameters: {'objective': 'Logloss', 'colsample_bylevel': 0.08030519917370413, 'depth': 7, 'boosting_type': 'Ordered', 'bootstrap_type': 'Bernoulli', 'subsample': 0.7292753773165592}. Best is trial 28 with value: 0.9057971014492754.\u001B[0m\n",
      "\u001B[32m[I 2022-05-29 18:45:39,104]\u001B[0m Trial 42 finished with value: 0.8840579710144928 and parameters: {'objective': 'Logloss', 'colsample_bylevel': 0.053937224986402965, 'depth': 4, 'boosting_type': 'Ordered', 'bootstrap_type': 'Bernoulli', 'subsample': 0.41550164286758523}. Best is trial 28 with value: 0.9057971014492754.\u001B[0m\n",
      "\u001B[32m[I 2022-05-29 18:45:39,840]\u001B[0m Trial 43 finished with value: 0.8913043478260869 and parameters: {'objective': 'Logloss', 'colsample_bylevel': 0.06324370906321124, 'depth': 8, 'boosting_type': 'Ordered', 'bootstrap_type': 'Bernoulli', 'subsample': 0.7669780418254439}. Best is trial 28 with value: 0.9057971014492754.\u001B[0m\n",
      "\u001B[32m[I 2022-05-29 18:45:40,717]\u001B[0m Trial 44 finished with value: 0.894927536231884 and parameters: {'objective': 'Logloss', 'colsample_bylevel': 0.09123236952117299, 'depth': 6, 'boosting_type': 'Ordered', 'bootstrap_type': 'Bernoulli', 'subsample': 0.8264871265806846}. Best is trial 28 with value: 0.9057971014492754.\u001B[0m\n",
      "\u001B[32m[I 2022-05-29 18:45:41,574]\u001B[0m Trial 45 finished with value: 0.8876811594202898 and parameters: {'objective': 'Logloss', 'colsample_bylevel': 0.09006178062009579, 'depth': 6, 'boosting_type': 'Ordered', 'bootstrap_type': 'Bernoulli', 'subsample': 0.8539483070816032}. Best is trial 28 with value: 0.9057971014492754.\u001B[0m\n",
      "\u001B[32m[I 2022-05-29 18:45:41,978]\u001B[0m Trial 46 finished with value: 0.8840579710144928 and parameters: {'objective': 'Logloss', 'colsample_bylevel': 0.05602995844198864, 'depth': 3, 'boosting_type': 'Plain', 'bootstrap_type': 'Bayesian', 'bagging_temperature': 2.8389811714047637}. Best is trial 28 with value: 0.9057971014492754.\u001B[0m\n",
      "\u001B[32m[I 2022-05-29 18:45:42,730]\u001B[0m Trial 47 finished with value: 0.8913043478260869 and parameters: {'objective': 'Logloss', 'colsample_bylevel': 0.07676746684629451, 'depth': 5, 'boosting_type': 'Ordered', 'bootstrap_type': 'Bernoulli', 'subsample': 0.8754651291611447}. Best is trial 28 with value: 0.9057971014492754.\u001B[0m\n",
      "\u001B[32m[I 2022-05-29 18:45:43,451]\u001B[0m Trial 48 finished with value: 0.894927536231884 and parameters: {'objective': 'Logloss', 'colsample_bylevel': 0.06909735427544854, 'depth': 6, 'boosting_type': 'Ordered', 'bootstrap_type': 'Bernoulli', 'subsample': 0.59989611538083}. Best is trial 28 with value: 0.9057971014492754.\u001B[0m\n",
      "\u001B[32m[I 2022-05-29 18:45:44,026]\u001B[0m Trial 49 finished with value: 0.894927536231884 and parameters: {'objective': 'Logloss', 'colsample_bylevel': 0.06975321727418353, 'depth': 6, 'boosting_type': 'Plain', 'bootstrap_type': 'Bernoulli', 'subsample': 0.6161118245082059}. Best is trial 28 with value: 0.9057971014492754.\u001B[0m\n"
     ]
    },
    {
     "name": "stdout",
     "output_type": "stream",
     "text": [
      "Number of finished trials : 50\n",
      "Best trial : \n",
      "\n",
      "     Value : 0.9057971014492754\n",
      "Params : \n",
      "\n",
      "     objective : Logloss\n",
      "     colsample_bylevel : 0.08253734633246051\n",
      "     depth : 6\n",
      "     boosting_type : Ordered\n",
      "     bootstrap_type : Bayesian\n",
      "     bagging_temperature : 0.10751383318362959\n"
     ]
    }
   ],
   "source": [
    "# Construct Study for hyperparameter optimization.\n",
    "study = optuna.create_study(direction=\"maximize\")\n",
    "study.optimize(objective, n_trials=50, timeout=600)\n",
    "\n",
    "print(\"Number of finished trials : {}\".format(len(study.trials)))\n",
    "print(\"Best trial : \\n\")\n",
    "trial = study.best_trial\n",
    "print(\"     Value : {}\".format(trial.value))\n",
    "print(\"Params : \\n\")\n",
    "\n",
    "for key, value in trial.params.items():\n",
    "    print(\"     {} : {}\".format(key, value))\n"
   ],
   "metadata": {
    "collapsed": false,
    "pycharm": {
     "name": "#%%\n"
    }
   }
  },
  {
   "cell_type": "markdown",
   "source": [
    "### Feature Importance using CatBoost"
   ],
   "metadata": {
    "collapsed": false
   }
  },
  {
   "cell_type": "code",
   "execution_count": 432,
   "outputs": [
    {
     "name": "stdout",
     "output_type": "stream",
     "text": [
      "              precision    recall  f1-score   support\n",
      "\n",
      "           0       0.86      0.89      0.88       112\n",
      "           1       0.93      0.90      0.91       164\n",
      "\n",
      "    accuracy                           0.90       276\n",
      "   macro avg       0.89      0.90      0.90       276\n",
      "weighted avg       0.90      0.90      0.90       276\n",
      "\n"
     ]
    },
    {
     "data": {
      "text/plain": "<Figure size 576x396 with 1 Axes>",
      "image/png": "[encoded data removed]"
     },
     "metadata": {},
     "output_type": "display_data"
    },
    {
     "name": "stdout",
     "output_type": "stream",
     "text": [
      "Model: <catboost.core.CatBoostClassifier object at 0x7fd078838c50> ; Accuracy Score: 89.86%\n"
     ]
    }
   ],
   "source": [
    "# Using the model with the best/tuned paramaters\n",
    "create_model(\"CatBoost - tuned\", scale_flag=False, tuned_params=trial.params)"
   ],
   "metadata": {
    "collapsed": false,
    "pycharm": {
     "name": "#%%\n"
    }
   }
  },
  {
   "cell_type": "code",
   "execution_count": 433,
   "outputs": [
    {
     "data": {
      "text/plain": "                                       Accuracy\nDummy Classifier                         0.5942\nLogistic Regression                      0.8841\nLinear Discriminant Analysis             0.8696\nSVM                                      0.7246\nK-Neighbor Classifier                    0.7174\nLogistic Regression - scaled             0.8804\nLinear Discriminant Analysis - scaled    0.8696\nSVM - scaled                             0.8841\nK-Neighbor Classifier - scaled           0.8841\nAdaBoost                                 0.8659\nGradient Boosting                        0.8768\nRandom Forest                            0.8877\nExtra Trees                              0.8804\nXGBoost                                  0.8297\nLightGBM                                 0.8732\nCatBoost                                 0.8804\nCatBoost - tuned                         0.8986",
      "text/html": "<div>\n<style scoped>\n    .dataframe tbody tr th:only-of-type {\n        vertical-align: middle;\n    }\n\n    .dataframe tbody tr th {\n        vertical-align: top;\n    }\n\n    .dataframe thead th {\n        text-align: right;\n    }\n</style>\n<table border=\"1\" class=\"dataframe\">\n  <thead>\n    <tr style=\"text-align: right;\">\n      <th></th>\n      <th>Accuracy</th>\n    </tr>\n  </thead>\n  <tbody>\n    <tr>\n      <th>Dummy Classifier</th>\n      <td>0.5942</td>\n    </tr>\n    <tr>\n      <th>Logistic Regression</th>\n      <td>0.8841</td>\n    </tr>\n    <tr>\n      <th>Linear Discriminant Analysis</th>\n      <td>0.8696</td>\n    </tr>\n    <tr>\n      <th>SVM</th>\n      <td>0.7246</td>\n    </tr>\n    <tr>\n      <th>K-Neighbor Classifier</th>\n      <td>0.7174</td>\n    </tr>\n    <tr>\n      <th>Logistic Regression - scaled</th>\n      <td>0.8804</td>\n    </tr>\n    <tr>\n      <th>Linear Discriminant Analysis - scaled</th>\n      <td>0.8696</td>\n    </tr>\n    <tr>\n      <th>SVM - scaled</th>\n      <td>0.8841</td>\n    </tr>\n    <tr>\n      <th>K-Neighbor Classifier - scaled</th>\n      <td>0.8841</td>\n    </tr>\n    <tr>\n      <th>AdaBoost</th>\n      <td>0.8659</td>\n    </tr>\n    <tr>\n      <th>Gradient Boosting</th>\n      <td>0.8768</td>\n    </tr>\n    <tr>\n      <th>Random Forest</th>\n      <td>0.8877</td>\n    </tr>\n    <tr>\n      <th>Extra Trees</th>\n      <td>0.8804</td>\n    </tr>\n    <tr>\n      <th>XGBoost</th>\n      <td>0.8297</td>\n    </tr>\n    <tr>\n      <th>LightGBM</th>\n      <td>0.8732</td>\n    </tr>\n    <tr>\n      <th>CatBoost</th>\n      <td>0.8804</td>\n    </tr>\n    <tr>\n      <th>CatBoost - tuned</th>\n      <td>0.8986</td>\n    </tr>\n  </tbody>\n</table>\n</div>"
     },
     "execution_count": 433,
     "metadata": {},
     "output_type": "execute_result"
    }
   ],
   "source": [
    "result_df = pd.DataFrame({'Accuracy': model_accuracy}, index=model_names)\n",
    "result_df"
   ],
   "metadata": {
    "collapsed": false,
    "pycharm": {
     "name": "#%%\n"
    }
   }
  },
  {
   "cell_type": "markdown",
   "source": [
    "Catboost feature importance"
   ],
   "metadata": {
    "collapsed": false,
    "pycharm": {
     "name": "#%% md\n"
    }
   }
  },
  {
   "cell_type": "markdown",
   "source": [
    "## Model Comparison"
   ],
   "metadata": {
    "collapsed": false,
    "pycharm": {
     "name": "#%% md\n"
    }
   }
  },
  {
   "cell_type": "code",
   "execution_count": 434,
   "outputs": [
    {
     "data": {
      "text/plain": "<Figure size 576x396 with 1 Axes>",
      "image/png": "[encoded data removed]"
     },
     "metadata": {},
     "output_type": "display_data"
    }
   ],
   "source": [
    "result_df.sort_values(by=['Accuracy'], ascending=False,inplace=True)\n",
    "sns.barplot(data=result_df, x='Accuracy', y=result_df.index)\n",
    "plt.title(\"Model Comparison\")\n",
    "plt.show()"
   ],
   "metadata": {
    "collapsed": false,
    "pycharm": {
     "name": "#%%\n"
    }
   }
  },
  {
   "cell_type": "code",
   "execution_count": null,
   "outputs": [],
   "source": [],
   "metadata": {
    "collapsed": false,
    "pycharm": {
     "name": "#%%\n"
    }
   }
  }
 ],
 "metadata": {
  "kernelspec": {
   "display_name": "Python 3",
   "language": "python",
   "name": "python3"
  },
  "language_info": {
   "codemirror_mode": {
    "name": "ipython",
    "version": 2
   },
   "file_extension": ".py",
   "mimetype": "text/x-python",
   "name": "python",
   "nbconvert_exporter": "python",
   "pygments_lexer": "ipython2",
   "version": "2.7.6"
  }
 },
 "nbformat": 4,
 "nbformat_minor": 0
}